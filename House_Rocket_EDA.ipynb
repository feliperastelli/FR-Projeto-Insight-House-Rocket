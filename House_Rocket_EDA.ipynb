{
 "cells": [
  {
   "cell_type": "markdown",
   "id": "393fecc1",
   "metadata": {},
   "source": [
    "# House Rocket Project"
   ]
  },
  {
   "cell_type": "markdown",
   "id": "5fa05d2e",
   "metadata": {
    "heading_collapsed": true
   },
   "source": [
    "## 1) Bibliotecas\n"
   ]
  },
  {
   "cell_type": "code",
   "execution_count": 1,
   "id": "5c8ea495",
   "metadata": {
    "ExecuteTime": {
     "end_time": "2021-09-04T19:46:10.453522Z",
     "start_time": "2021-09-04T19:46:02.020514Z"
    },
    "hidden": true
   },
   "outputs": [],
   "source": [
    "import pandas as pd\n",
    "import numpy as np\n",
    "pd.set_option('display.float_format', lambda x: '%.2f' % x)\n",
    "from matplotlib import pyplot as plt\n",
    "import seaborn as sns\n",
    "import warnings\n",
    "import plotly.express as px\n",
    "warnings.simplefilter(action=\"ignore\", category=FutureWarning)"
   ]
  },
  {
   "cell_type": "markdown",
   "id": "bbc29919",
   "metadata": {
    "heading_collapsed": true
   },
   "source": [
    "## 2 ) Dados"
   ]
  },
  {
   "cell_type": "markdown",
   "id": "c276f9f2",
   "metadata": {
    "heading_collapsed": true,
    "hidden": true
   },
   "source": [
    "### 2.1) Importação dos dados"
   ]
  },
  {
   "cell_type": "code",
   "execution_count": 2,
   "id": "c16497d1",
   "metadata": {
    "ExecuteTime": {
     "end_time": "2021-09-04T19:46:10.830356Z",
     "start_time": "2021-09-04T19:46:10.455359Z"
    },
    "hidden": true
   },
   "outputs": [],
   "source": [
    "data = pd.read_csv('kc_house_data.csv')"
   ]
  },
  {
   "cell_type": "markdown",
   "id": "0ad53ae0",
   "metadata": {
    "heading_collapsed": true,
    "hidden": true
   },
   "source": [
    "### 2.2) Dimensões e tipos das variáveis"
   ]
  },
  {
   "cell_type": "code",
   "execution_count": 3,
   "id": "f71cf14c",
   "metadata": {
    "ExecuteTime": {
     "end_time": "2021-09-04T19:46:10.844447Z",
     "start_time": "2021-09-04T19:46:10.832741Z"
    },
    "hidden": true
   },
   "outputs": [
    {
     "name": "stdout",
     "output_type": "stream",
     "text": [
      "Number of rows: 21613\n",
      "Number of columns: 21\n"
     ]
    },
    {
     "data": {
      "text/plain": [
       "id                 int64\n",
       "date              object\n",
       "price            float64\n",
       "bedrooms           int64\n",
       "bathrooms        float64\n",
       "sqft_living        int64\n",
       "sqft_lot           int64\n",
       "floors           float64\n",
       "waterfront         int64\n",
       "view               int64\n",
       "condition          int64\n",
       "grade              int64\n",
       "sqft_above         int64\n",
       "sqft_basement      int64\n",
       "yr_built           int64\n",
       "yr_renovated       int64\n",
       "zipcode            int64\n",
       "lat              float64\n",
       "long             float64\n",
       "sqft_living15      int64\n",
       "sqft_lot15         int64\n",
       "dtype: object"
      ]
     },
     "execution_count": 3,
     "metadata": {},
     "output_type": "execute_result"
    }
   ],
   "source": [
    "#data dimensions\n",
    "print('Number of rows: {}'.format(data.shape[0]))\n",
    "print('Number of columns: {}'.format(data.shape[1]))\n",
    "\n",
    "data.dtypes"
   ]
  },
  {
   "cell_type": "markdown",
   "id": "4d3b3c35",
   "metadata": {
    "heading_collapsed": true,
    "hidden": true
   },
   "source": [
    "### 2.3 ) Transformando dados"
   ]
  },
  {
   "cell_type": "code",
   "execution_count": 4,
   "id": "3f75150e",
   "metadata": {
    "ExecuteTime": {
     "end_time": "2021-09-04T19:46:10.992959Z",
     "start_time": "2021-09-04T19:46:10.847143Z"
    },
    "hidden": true
   },
   "outputs": [],
   "source": [
    "#transformar formato da data\n",
    "data['date'] = pd.to_datetime(data['date'])\n",
    "#transformando formato da coluna 'waterfront'\n",
    "data['waterfront'] = data['waterfront'].astype(str)"
   ]
  },
  {
   "cell_type": "markdown",
   "id": "a441a295",
   "metadata": {
    "heading_collapsed": true,
    "hidden": true
   },
   "source": [
    "### 2.4) Limpeza de dados"
   ]
  },
  {
   "cell_type": "code",
   "execution_count": 5,
   "id": "94ab3e1d",
   "metadata": {
    "ExecuteTime": {
     "end_time": "2021-09-04T19:46:11.169107Z",
     "start_time": "2021-09-04T19:46:10.994785Z"
    },
    "hidden": true
   },
   "outputs": [
    {
     "name": "stdout",
     "output_type": "stream",
     "text": [
      "21436\n"
     ]
    },
    {
     "data": {
      "text/html": [
       "<div>\n",
       "<style scoped>\n",
       "    .dataframe tbody tr th:only-of-type {\n",
       "        vertical-align: middle;\n",
       "    }\n",
       "\n",
       "    .dataframe tbody tr th {\n",
       "        vertical-align: top;\n",
       "    }\n",
       "\n",
       "    .dataframe thead th {\n",
       "        text-align: right;\n",
       "    }\n",
       "</style>\n",
       "<table border=\"1\" class=\"dataframe\">\n",
       "  <thead>\n",
       "    <tr style=\"text-align: right;\">\n",
       "      <th></th>\n",
       "      <th>id</th>\n",
       "      <th>date</th>\n",
       "      <th>price</th>\n",
       "      <th>bedrooms</th>\n",
       "      <th>bathrooms</th>\n",
       "      <th>sqft_living</th>\n",
       "      <th>sqft_lot</th>\n",
       "      <th>floors</th>\n",
       "      <th>waterfront</th>\n",
       "      <th>view</th>\n",
       "      <th>...</th>\n",
       "      <th>grade</th>\n",
       "      <th>sqft_above</th>\n",
       "      <th>sqft_basement</th>\n",
       "      <th>yr_built</th>\n",
       "      <th>yr_renovated</th>\n",
       "      <th>zipcode</th>\n",
       "      <th>lat</th>\n",
       "      <th>long</th>\n",
       "      <th>sqft_living15</th>\n",
       "      <th>sqft_lot15</th>\n",
       "    </tr>\n",
       "  </thead>\n",
       "  <tbody>\n",
       "    <tr>\n",
       "      <th>2497</th>\n",
       "      <td>1000102</td>\n",
       "      <td>2015-04-22</td>\n",
       "      <td>300000.00</td>\n",
       "      <td>6</td>\n",
       "      <td>3.00</td>\n",
       "      <td>2400</td>\n",
       "      <td>9373</td>\n",
       "      <td>2.00</td>\n",
       "      <td>0</td>\n",
       "      <td>0</td>\n",
       "      <td>...</td>\n",
       "      <td>7</td>\n",
       "      <td>2400</td>\n",
       "      <td>0</td>\n",
       "      <td>1991</td>\n",
       "      <td>0</td>\n",
       "      <td>98002</td>\n",
       "      <td>47.33</td>\n",
       "      <td>-122.21</td>\n",
       "      <td>2060</td>\n",
       "      <td>7316</td>\n",
       "    </tr>\n",
       "    <tr>\n",
       "      <th>2496</th>\n",
       "      <td>1000102</td>\n",
       "      <td>2014-09-16</td>\n",
       "      <td>280000.00</td>\n",
       "      <td>6</td>\n",
       "      <td>3.00</td>\n",
       "      <td>2400</td>\n",
       "      <td>9373</td>\n",
       "      <td>2.00</td>\n",
       "      <td>0</td>\n",
       "      <td>0</td>\n",
       "      <td>...</td>\n",
       "      <td>7</td>\n",
       "      <td>2400</td>\n",
       "      <td>0</td>\n",
       "      <td>1991</td>\n",
       "      <td>0</td>\n",
       "      <td>98002</td>\n",
       "      <td>47.33</td>\n",
       "      <td>-122.21</td>\n",
       "      <td>2060</td>\n",
       "      <td>7316</td>\n",
       "    </tr>\n",
       "    <tr>\n",
       "      <th>6735</th>\n",
       "      <td>1200019</td>\n",
       "      <td>2014-05-08</td>\n",
       "      <td>647500.00</td>\n",
       "      <td>4</td>\n",
       "      <td>1.75</td>\n",
       "      <td>2060</td>\n",
       "      <td>26036</td>\n",
       "      <td>1.00</td>\n",
       "      <td>0</td>\n",
       "      <td>0</td>\n",
       "      <td>...</td>\n",
       "      <td>8</td>\n",
       "      <td>1160</td>\n",
       "      <td>900</td>\n",
       "      <td>1947</td>\n",
       "      <td>0</td>\n",
       "      <td>98166</td>\n",
       "      <td>47.44</td>\n",
       "      <td>-122.35</td>\n",
       "      <td>2590</td>\n",
       "      <td>21891</td>\n",
       "    </tr>\n",
       "    <tr>\n",
       "      <th>8411</th>\n",
       "      <td>1200021</td>\n",
       "      <td>2014-08-11</td>\n",
       "      <td>400000.00</td>\n",
       "      <td>3</td>\n",
       "      <td>1.00</td>\n",
       "      <td>1460</td>\n",
       "      <td>43000</td>\n",
       "      <td>1.00</td>\n",
       "      <td>0</td>\n",
       "      <td>0</td>\n",
       "      <td>...</td>\n",
       "      <td>7</td>\n",
       "      <td>1460</td>\n",
       "      <td>0</td>\n",
       "      <td>1952</td>\n",
       "      <td>0</td>\n",
       "      <td>98166</td>\n",
       "      <td>47.44</td>\n",
       "      <td>-122.35</td>\n",
       "      <td>2250</td>\n",
       "      <td>20023</td>\n",
       "    </tr>\n",
       "    <tr>\n",
       "      <th>8809</th>\n",
       "      <td>2800031</td>\n",
       "      <td>2015-04-01</td>\n",
       "      <td>235000.00</td>\n",
       "      <td>3</td>\n",
       "      <td>1.00</td>\n",
       "      <td>1430</td>\n",
       "      <td>7599</td>\n",
       "      <td>1.50</td>\n",
       "      <td>0</td>\n",
       "      <td>0</td>\n",
       "      <td>...</td>\n",
       "      <td>6</td>\n",
       "      <td>1010</td>\n",
       "      <td>420</td>\n",
       "      <td>1930</td>\n",
       "      <td>0</td>\n",
       "      <td>98168</td>\n",
       "      <td>47.48</td>\n",
       "      <td>-122.27</td>\n",
       "      <td>1290</td>\n",
       "      <td>10320</td>\n",
       "    </tr>\n",
       "    <tr>\n",
       "      <th>3557</th>\n",
       "      <td>3600057</td>\n",
       "      <td>2015-03-19</td>\n",
       "      <td>402500.00</td>\n",
       "      <td>4</td>\n",
       "      <td>2.00</td>\n",
       "      <td>1650</td>\n",
       "      <td>3504</td>\n",
       "      <td>1.00</td>\n",
       "      <td>0</td>\n",
       "      <td>0</td>\n",
       "      <td>...</td>\n",
       "      <td>7</td>\n",
       "      <td>760</td>\n",
       "      <td>890</td>\n",
       "      <td>1951</td>\n",
       "      <td>2013</td>\n",
       "      <td>98144</td>\n",
       "      <td>47.58</td>\n",
       "      <td>-122.29</td>\n",
       "      <td>1480</td>\n",
       "      <td>3504</td>\n",
       "    </tr>\n",
       "    <tr>\n",
       "      <th>18521</th>\n",
       "      <td>3600072</td>\n",
       "      <td>2015-03-30</td>\n",
       "      <td>680000.00</td>\n",
       "      <td>4</td>\n",
       "      <td>2.75</td>\n",
       "      <td>2220</td>\n",
       "      <td>5310</td>\n",
       "      <td>1.00</td>\n",
       "      <td>0</td>\n",
       "      <td>0</td>\n",
       "      <td>...</td>\n",
       "      <td>7</td>\n",
       "      <td>1170</td>\n",
       "      <td>1050</td>\n",
       "      <td>1951</td>\n",
       "      <td>0</td>\n",
       "      <td>98144</td>\n",
       "      <td>47.58</td>\n",
       "      <td>-122.29</td>\n",
       "      <td>1540</td>\n",
       "      <td>4200</td>\n",
       "    </tr>\n",
       "    <tr>\n",
       "      <th>3200</th>\n",
       "      <td>3800008</td>\n",
       "      <td>2015-02-24</td>\n",
       "      <td>178000.00</td>\n",
       "      <td>5</td>\n",
       "      <td>1.50</td>\n",
       "      <td>1990</td>\n",
       "      <td>18200</td>\n",
       "      <td>1.00</td>\n",
       "      <td>0</td>\n",
       "      <td>0</td>\n",
       "      <td>...</td>\n",
       "      <td>7</td>\n",
       "      <td>1990</td>\n",
       "      <td>0</td>\n",
       "      <td>1960</td>\n",
       "      <td>0</td>\n",
       "      <td>98178</td>\n",
       "      <td>47.49</td>\n",
       "      <td>-122.26</td>\n",
       "      <td>1860</td>\n",
       "      <td>8658</td>\n",
       "    </tr>\n",
       "    <tr>\n",
       "      <th>21063</th>\n",
       "      <td>5200087</td>\n",
       "      <td>2014-07-09</td>\n",
       "      <td>487000.00</td>\n",
       "      <td>4</td>\n",
       "      <td>2.50</td>\n",
       "      <td>2540</td>\n",
       "      <td>5001</td>\n",
       "      <td>2.00</td>\n",
       "      <td>0</td>\n",
       "      <td>0</td>\n",
       "      <td>...</td>\n",
       "      <td>9</td>\n",
       "      <td>2540</td>\n",
       "      <td>0</td>\n",
       "      <td>2005</td>\n",
       "      <td>0</td>\n",
       "      <td>98108</td>\n",
       "      <td>47.54</td>\n",
       "      <td>-122.30</td>\n",
       "      <td>2360</td>\n",
       "      <td>6834</td>\n",
       "    </tr>\n",
       "    <tr>\n",
       "      <th>4333</th>\n",
       "      <td>6200017</td>\n",
       "      <td>2014-11-12</td>\n",
       "      <td>281000.00</td>\n",
       "      <td>3</td>\n",
       "      <td>1.00</td>\n",
       "      <td>1340</td>\n",
       "      <td>21336</td>\n",
       "      <td>1.50</td>\n",
       "      <td>0</td>\n",
       "      <td>0</td>\n",
       "      <td>...</td>\n",
       "      <td>5</td>\n",
       "      <td>1340</td>\n",
       "      <td>0</td>\n",
       "      <td>1945</td>\n",
       "      <td>0</td>\n",
       "      <td>98032</td>\n",
       "      <td>47.40</td>\n",
       "      <td>-122.27</td>\n",
       "      <td>1340</td>\n",
       "      <td>37703</td>\n",
       "    </tr>\n",
       "  </tbody>\n",
       "</table>\n",
       "<p>10 rows × 21 columns</p>\n",
       "</div>"
      ],
      "text/plain": [
       "            id       date     price  bedrooms  bathrooms  sqft_living  \\\n",
       "2497   1000102 2015-04-22 300000.00         6       3.00         2400   \n",
       "2496   1000102 2014-09-16 280000.00         6       3.00         2400   \n",
       "6735   1200019 2014-05-08 647500.00         4       1.75         2060   \n",
       "8411   1200021 2014-08-11 400000.00         3       1.00         1460   \n",
       "8809   2800031 2015-04-01 235000.00         3       1.00         1430   \n",
       "3557   3600057 2015-03-19 402500.00         4       2.00         1650   \n",
       "18521  3600072 2015-03-30 680000.00         4       2.75         2220   \n",
       "3200   3800008 2015-02-24 178000.00         5       1.50         1990   \n",
       "21063  5200087 2014-07-09 487000.00         4       2.50         2540   \n",
       "4333   6200017 2014-11-12 281000.00         3       1.00         1340   \n",
       "\n",
       "       sqft_lot  floors waterfront  view  ...  grade  sqft_above  \\\n",
       "2497       9373    2.00          0     0  ...      7        2400   \n",
       "2496       9373    2.00          0     0  ...      7        2400   \n",
       "6735      26036    1.00          0     0  ...      8        1160   \n",
       "8411      43000    1.00          0     0  ...      7        1460   \n",
       "8809       7599    1.50          0     0  ...      6        1010   \n",
       "3557       3504    1.00          0     0  ...      7         760   \n",
       "18521      5310    1.00          0     0  ...      7        1170   \n",
       "3200      18200    1.00          0     0  ...      7        1990   \n",
       "21063      5001    2.00          0     0  ...      9        2540   \n",
       "4333      21336    1.50          0     0  ...      5        1340   \n",
       "\n",
       "       sqft_basement  yr_built  yr_renovated  zipcode   lat    long  \\\n",
       "2497               0      1991             0    98002 47.33 -122.21   \n",
       "2496               0      1991             0    98002 47.33 -122.21   \n",
       "6735             900      1947             0    98166 47.44 -122.35   \n",
       "8411               0      1952             0    98166 47.44 -122.35   \n",
       "8809             420      1930             0    98168 47.48 -122.27   \n",
       "3557             890      1951          2013    98144 47.58 -122.29   \n",
       "18521           1050      1951             0    98144 47.58 -122.29   \n",
       "3200               0      1960             0    98178 47.49 -122.26   \n",
       "21063              0      2005             0    98108 47.54 -122.30   \n",
       "4333               0      1945             0    98032 47.40 -122.27   \n",
       "\n",
       "       sqft_living15  sqft_lot15  \n",
       "2497            2060        7316  \n",
       "2496            2060        7316  \n",
       "6735            2590       21891  \n",
       "8411            2250       20023  \n",
       "8809            1290       10320  \n",
       "3557            1480        3504  \n",
       "18521           1540        4200  \n",
       "3200            1860        8658  \n",
       "21063           2360        6834  \n",
       "4333            1340       37703  \n",
       "\n",
       "[10 rows x 21 columns]"
      ]
     },
     "execution_count": 5,
     "metadata": {},
     "output_type": "execute_result"
    }
   ],
   "source": [
    "# ID's\n",
    "print(len(data['id'].unique().tolist()))\n",
    "\n",
    "data.sort_values('id').head(10)"
   ]
  },
  {
   "cell_type": "code",
   "execution_count": 6,
   "id": "a543bf2b",
   "metadata": {
    "ExecuteTime": {
     "end_time": "2021-09-04T19:46:11.243887Z",
     "start_time": "2021-09-04T19:46:11.171268Z"
    },
    "hidden": true
   },
   "outputs": [
    {
     "data": {
      "text/html": [
       "<div>\n",
       "<style scoped>\n",
       "    .dataframe tbody tr th:only-of-type {\n",
       "        vertical-align: middle;\n",
       "    }\n",
       "\n",
       "    .dataframe tbody tr th {\n",
       "        vertical-align: top;\n",
       "    }\n",
       "\n",
       "    .dataframe thead th {\n",
       "        text-align: right;\n",
       "    }\n",
       "</style>\n",
       "<table border=\"1\" class=\"dataframe\">\n",
       "  <thead>\n",
       "    <tr style=\"text-align: right;\">\n",
       "      <th></th>\n",
       "      <th>id</th>\n",
       "      <th>date</th>\n",
       "      <th>price</th>\n",
       "      <th>bedrooms</th>\n",
       "      <th>bathrooms</th>\n",
       "      <th>sqft_living</th>\n",
       "      <th>sqft_lot</th>\n",
       "      <th>floors</th>\n",
       "      <th>waterfront</th>\n",
       "      <th>view</th>\n",
       "      <th>...</th>\n",
       "      <th>grade</th>\n",
       "      <th>sqft_above</th>\n",
       "      <th>sqft_basement</th>\n",
       "      <th>yr_built</th>\n",
       "      <th>yr_renovated</th>\n",
       "      <th>zipcode</th>\n",
       "      <th>lat</th>\n",
       "      <th>long</th>\n",
       "      <th>sqft_living15</th>\n",
       "      <th>sqft_lot15</th>\n",
       "    </tr>\n",
       "  </thead>\n",
       "  <tbody>\n",
       "    <tr>\n",
       "      <th>2497</th>\n",
       "      <td>1000102</td>\n",
       "      <td>2015-04-22</td>\n",
       "      <td>300000.00</td>\n",
       "      <td>6</td>\n",
       "      <td>3.00</td>\n",
       "      <td>2400</td>\n",
       "      <td>9373</td>\n",
       "      <td>2.00</td>\n",
       "      <td>0</td>\n",
       "      <td>0</td>\n",
       "      <td>...</td>\n",
       "      <td>7</td>\n",
       "      <td>2400</td>\n",
       "      <td>0</td>\n",
       "      <td>1991</td>\n",
       "      <td>0</td>\n",
       "      <td>98002</td>\n",
       "      <td>47.33</td>\n",
       "      <td>-122.21</td>\n",
       "      <td>2060</td>\n",
       "      <td>7316</td>\n",
       "    </tr>\n",
       "    <tr>\n",
       "      <th>6735</th>\n",
       "      <td>1200019</td>\n",
       "      <td>2014-05-08</td>\n",
       "      <td>647500.00</td>\n",
       "      <td>4</td>\n",
       "      <td>1.75</td>\n",
       "      <td>2060</td>\n",
       "      <td>26036</td>\n",
       "      <td>1.00</td>\n",
       "      <td>0</td>\n",
       "      <td>0</td>\n",
       "      <td>...</td>\n",
       "      <td>8</td>\n",
       "      <td>1160</td>\n",
       "      <td>900</td>\n",
       "      <td>1947</td>\n",
       "      <td>0</td>\n",
       "      <td>98166</td>\n",
       "      <td>47.44</td>\n",
       "      <td>-122.35</td>\n",
       "      <td>2590</td>\n",
       "      <td>21891</td>\n",
       "    </tr>\n",
       "    <tr>\n",
       "      <th>8411</th>\n",
       "      <td>1200021</td>\n",
       "      <td>2014-08-11</td>\n",
       "      <td>400000.00</td>\n",
       "      <td>3</td>\n",
       "      <td>1.00</td>\n",
       "      <td>1460</td>\n",
       "      <td>43000</td>\n",
       "      <td>1.00</td>\n",
       "      <td>0</td>\n",
       "      <td>0</td>\n",
       "      <td>...</td>\n",
       "      <td>7</td>\n",
       "      <td>1460</td>\n",
       "      <td>0</td>\n",
       "      <td>1952</td>\n",
       "      <td>0</td>\n",
       "      <td>98166</td>\n",
       "      <td>47.44</td>\n",
       "      <td>-122.35</td>\n",
       "      <td>2250</td>\n",
       "      <td>20023</td>\n",
       "    </tr>\n",
       "    <tr>\n",
       "      <th>8809</th>\n",
       "      <td>2800031</td>\n",
       "      <td>2015-04-01</td>\n",
       "      <td>235000.00</td>\n",
       "      <td>3</td>\n",
       "      <td>1.00</td>\n",
       "      <td>1430</td>\n",
       "      <td>7599</td>\n",
       "      <td>1.50</td>\n",
       "      <td>0</td>\n",
       "      <td>0</td>\n",
       "      <td>...</td>\n",
       "      <td>6</td>\n",
       "      <td>1010</td>\n",
       "      <td>420</td>\n",
       "      <td>1930</td>\n",
       "      <td>0</td>\n",
       "      <td>98168</td>\n",
       "      <td>47.48</td>\n",
       "      <td>-122.27</td>\n",
       "      <td>1290</td>\n",
       "      <td>10320</td>\n",
       "    </tr>\n",
       "    <tr>\n",
       "      <th>3557</th>\n",
       "      <td>3600057</td>\n",
       "      <td>2015-03-19</td>\n",
       "      <td>402500.00</td>\n",
       "      <td>4</td>\n",
       "      <td>2.00</td>\n",
       "      <td>1650</td>\n",
       "      <td>3504</td>\n",
       "      <td>1.00</td>\n",
       "      <td>0</td>\n",
       "      <td>0</td>\n",
       "      <td>...</td>\n",
       "      <td>7</td>\n",
       "      <td>760</td>\n",
       "      <td>890</td>\n",
       "      <td>1951</td>\n",
       "      <td>2013</td>\n",
       "      <td>98144</td>\n",
       "      <td>47.58</td>\n",
       "      <td>-122.29</td>\n",
       "      <td>1480</td>\n",
       "      <td>3504</td>\n",
       "    </tr>\n",
       "  </tbody>\n",
       "</table>\n",
       "<p>5 rows × 21 columns</p>\n",
       "</div>"
      ],
      "text/plain": [
       "           id       date     price  bedrooms  bathrooms  sqft_living  \\\n",
       "2497  1000102 2015-04-22 300000.00         6       3.00         2400   \n",
       "6735  1200019 2014-05-08 647500.00         4       1.75         2060   \n",
       "8411  1200021 2014-08-11 400000.00         3       1.00         1460   \n",
       "8809  2800031 2015-04-01 235000.00         3       1.00         1430   \n",
       "3557  3600057 2015-03-19 402500.00         4       2.00         1650   \n",
       "\n",
       "      sqft_lot  floors waterfront  view  ...  grade  sqft_above  \\\n",
       "2497      9373    2.00          0     0  ...      7        2400   \n",
       "6735     26036    1.00          0     0  ...      8        1160   \n",
       "8411     43000    1.00          0     0  ...      7        1460   \n",
       "8809      7599    1.50          0     0  ...      6        1010   \n",
       "3557      3504    1.00          0     0  ...      7         760   \n",
       "\n",
       "      sqft_basement  yr_built  yr_renovated  zipcode   lat    long  \\\n",
       "2497              0      1991             0    98002 47.33 -122.21   \n",
       "6735            900      1947             0    98166 47.44 -122.35   \n",
       "8411              0      1952             0    98166 47.44 -122.35   \n",
       "8809            420      1930             0    98168 47.48 -122.27   \n",
       "3557            890      1951          2013    98144 47.58 -122.29   \n",
       "\n",
       "      sqft_living15  sqft_lot15  \n",
       "2497           2060        7316  \n",
       "6735           2590       21891  \n",
       "8411           2250       20023  \n",
       "8809           1290       10320  \n",
       "3557           1480        3504  \n",
       "\n",
       "[5 rows x 21 columns]"
      ]
     },
     "execution_count": 6,
     "metadata": {},
     "output_type": "execute_result"
    }
   ],
   "source": [
    "# Deletando os ID's repetidos, deixando o último cadastrado\n",
    "\n",
    "data = data.drop_duplicates(subset = ['id'], keep = 'last')\n",
    "\n",
    "data.sort_values('id').head(5)"
   ]
  },
  {
   "cell_type": "code",
   "execution_count": 7,
   "id": "1af02cc8",
   "metadata": {
    "ExecuteTime": {
     "end_time": "2021-09-04T19:46:11.307134Z",
     "start_time": "2021-09-04T19:46:11.248297Z"
    },
    "hidden": true
   },
   "outputs": [
    {
     "name": "stdout",
     "output_type": "stream",
     "text": [
      "Atributo: bedrooms - [3, 2, 4, 5, 1, 6, 7, 0, 8, 9, 11, 10, 33]\n",
      "Atributo: bathrooms - [1.0, 2.25, 3.0, 2.0, 4.5, 1.5, 2.5, 1.75, 2.75, 3.25, 4.0, 3.5, 0.75, 4.75, 5.0, 4.25, 3.75, 0.0, 1.25, 5.25, 6.0, 0.5, 5.5, 6.75, 5.75, 8.0, 7.5, 7.75, 6.25, 6.5]\n",
      "Atributo: floors - [1.0, 2.0, 1.5, 3.0, 2.5, 3.5]\n",
      "Atributo: waterfront - ['0', '1']\n",
      "Atributo: view - [0, 3, 4, 2, 1]\n",
      "Atributo: condition - [3, 5, 4, 1, 2]\n",
      "Atributo: grade - [7, 6, 8, 11, 9, 5, 10, 12, 4, 3, 13, 1]\n"
     ]
    }
   ],
   "source": [
    "# Verificando Outliers nos atributos\n",
    "\n",
    "unique = data[['bedrooms','bathrooms','floors','waterfront','view','condition','grade']]\n",
    "\n",
    "for i in unique:\n",
    "    print('Atributo: {} - {}'.format(i, data[i].unique().tolist()))     "
   ]
  },
  {
   "cell_type": "code",
   "execution_count": 8,
   "id": "fdb5f38b",
   "metadata": {
    "ExecuteTime": {
     "end_time": "2021-09-04T19:46:11.631088Z",
     "start_time": "2021-09-04T19:46:11.312707Z"
    },
    "hidden": true
   },
   "outputs": [],
   "source": [
    "#Removendo imóvel com suposto erro de digitação no atributo 'bedrooms'\n",
    "data.drop(data.loc[data['bedrooms'] == 33].index, inplace=True)"
   ]
  },
  {
   "cell_type": "markdown",
   "id": "548b3f22",
   "metadata": {
    "heading_collapsed": true
   },
   "source": [
    "## 3) Exploração dos dados"
   ]
  },
  {
   "cell_type": "markdown",
   "id": "33986323",
   "metadata": {
    "heading_collapsed": true,
    "hidden": true
   },
   "source": [
    "### 3.1) Estatística Descritiva"
   ]
  },
  {
   "cell_type": "code",
   "execution_count": 9,
   "id": "f81dde98",
   "metadata": {
    "ExecuteTime": {
     "end_time": "2021-09-04T19:46:11.709271Z",
     "start_time": "2021-09-04T19:46:11.633749Z"
    },
    "hidden": true,
    "scrolled": true
   },
   "outputs": [
    {
     "data": {
      "text/html": [
       "<div>\n",
       "<style scoped>\n",
       "    .dataframe tbody tr th:only-of-type {\n",
       "        vertical-align: middle;\n",
       "    }\n",
       "\n",
       "    .dataframe tbody tr th {\n",
       "        vertical-align: top;\n",
       "    }\n",
       "\n",
       "    .dataframe thead th {\n",
       "        text-align: right;\n",
       "    }\n",
       "</style>\n",
       "<table border=\"1\" class=\"dataframe\">\n",
       "  <thead>\n",
       "    <tr style=\"text-align: right;\">\n",
       "      <th></th>\n",
       "      <th>attributes</th>\n",
       "      <th>maximum</th>\n",
       "      <th>minimum</th>\n",
       "      <th>mean</th>\n",
       "      <th>median</th>\n",
       "      <th>std</th>\n",
       "    </tr>\n",
       "  </thead>\n",
       "  <tbody>\n",
       "    <tr>\n",
       "      <th>0</th>\n",
       "      <td>price</td>\n",
       "      <td>7700000.00</td>\n",
       "      <td>75000.00</td>\n",
       "      <td>541645.37</td>\n",
       "      <td>450000.00</td>\n",
       "      <td>367314.32</td>\n",
       "    </tr>\n",
       "    <tr>\n",
       "      <th>1</th>\n",
       "      <td>bedrooms</td>\n",
       "      <td>11.00</td>\n",
       "      <td>0.00</td>\n",
       "      <td>3.37</td>\n",
       "      <td>3.00</td>\n",
       "      <td>0.91</td>\n",
       "    </tr>\n",
       "    <tr>\n",
       "      <th>2</th>\n",
       "      <td>bathrooms</td>\n",
       "      <td>8.00</td>\n",
       "      <td>0.00</td>\n",
       "      <td>2.12</td>\n",
       "      <td>2.25</td>\n",
       "      <td>0.77</td>\n",
       "    </tr>\n",
       "    <tr>\n",
       "      <th>3</th>\n",
       "      <td>sqft_living</td>\n",
       "      <td>13540.00</td>\n",
       "      <td>290.00</td>\n",
       "      <td>2082.73</td>\n",
       "      <td>1920.00</td>\n",
       "      <td>919.14</td>\n",
       "    </tr>\n",
       "    <tr>\n",
       "      <th>4</th>\n",
       "      <td>sqft_lot</td>\n",
       "      <td>1651359.00</td>\n",
       "      <td>520.00</td>\n",
       "      <td>15136.06</td>\n",
       "      <td>7614.00</td>\n",
       "      <td>41538.57</td>\n",
       "    </tr>\n",
       "    <tr>\n",
       "      <th>5</th>\n",
       "      <td>floors</td>\n",
       "      <td>3.50</td>\n",
       "      <td>1.00</td>\n",
       "      <td>1.50</td>\n",
       "      <td>1.50</td>\n",
       "      <td>0.54</td>\n",
       "    </tr>\n",
       "    <tr>\n",
       "      <th>6</th>\n",
       "      <td>view</td>\n",
       "      <td>4.00</td>\n",
       "      <td>0.00</td>\n",
       "      <td>0.24</td>\n",
       "      <td>0.00</td>\n",
       "      <td>0.77</td>\n",
       "    </tr>\n",
       "    <tr>\n",
       "      <th>7</th>\n",
       "      <td>condition</td>\n",
       "      <td>5.00</td>\n",
       "      <td>1.00</td>\n",
       "      <td>3.41</td>\n",
       "      <td>3.00</td>\n",
       "      <td>0.65</td>\n",
       "    </tr>\n",
       "    <tr>\n",
       "      <th>8</th>\n",
       "      <td>grade</td>\n",
       "      <td>13.00</td>\n",
       "      <td>1.00</td>\n",
       "      <td>7.66</td>\n",
       "      <td>7.00</td>\n",
       "      <td>1.17</td>\n",
       "    </tr>\n",
       "    <tr>\n",
       "      <th>9</th>\n",
       "      <td>sqft_above</td>\n",
       "      <td>9410.00</td>\n",
       "      <td>290.00</td>\n",
       "      <td>1791.00</td>\n",
       "      <td>1560.00</td>\n",
       "      <td>829.01</td>\n",
       "    </tr>\n",
       "    <tr>\n",
       "      <th>10</th>\n",
       "      <td>sqft_basement</td>\n",
       "      <td>4820.00</td>\n",
       "      <td>0.00</td>\n",
       "      <td>291.73</td>\n",
       "      <td>0.00</td>\n",
       "      <td>442.78</td>\n",
       "    </tr>\n",
       "    <tr>\n",
       "      <th>11</th>\n",
       "      <td>yr_built</td>\n",
       "      <td>2015.00</td>\n",
       "      <td>1900.00</td>\n",
       "      <td>1971.10</td>\n",
       "      <td>1975.00</td>\n",
       "      <td>29.38</td>\n",
       "    </tr>\n",
       "    <tr>\n",
       "      <th>12</th>\n",
       "      <td>yr_renovated</td>\n",
       "      <td>2015.00</td>\n",
       "      <td>0.00</td>\n",
       "      <td>84.73</td>\n",
       "      <td>0.00</td>\n",
       "      <td>402.43</td>\n",
       "    </tr>\n",
       "    <tr>\n",
       "      <th>13</th>\n",
       "      <td>sqft_living15</td>\n",
       "      <td>6210.00</td>\n",
       "      <td>399.00</td>\n",
       "      <td>1988.35</td>\n",
       "      <td>1840.00</td>\n",
       "      <td>685.68</td>\n",
       "    </tr>\n",
       "    <tr>\n",
       "      <th>14</th>\n",
       "      <td>sqft_lot15</td>\n",
       "      <td>871200.00</td>\n",
       "      <td>651.00</td>\n",
       "      <td>12786.34</td>\n",
       "      <td>7620.00</td>\n",
       "      <td>27375.41</td>\n",
       "    </tr>\n",
       "  </tbody>\n",
       "</table>\n",
       "</div>"
      ],
      "text/plain": [
       "       attributes    maximum  minimum      mean    median       std\n",
       "0           price 7700000.00 75000.00 541645.37 450000.00 367314.32\n",
       "1        bedrooms      11.00     0.00      3.37      3.00      0.91\n",
       "2       bathrooms       8.00     0.00      2.12      2.25      0.77\n",
       "3     sqft_living   13540.00   290.00   2082.73   1920.00    919.14\n",
       "4        sqft_lot 1651359.00   520.00  15136.06   7614.00  41538.57\n",
       "5          floors       3.50     1.00      1.50      1.50      0.54\n",
       "6            view       4.00     0.00      0.24      0.00      0.77\n",
       "7       condition       5.00     1.00      3.41      3.00      0.65\n",
       "8           grade      13.00     1.00      7.66      7.00      1.17\n",
       "9      sqft_above    9410.00   290.00   1791.00   1560.00    829.01\n",
       "10  sqft_basement    4820.00     0.00    291.73      0.00    442.78\n",
       "11       yr_built    2015.00  1900.00   1971.10   1975.00     29.38\n",
       "12   yr_renovated    2015.00     0.00     84.73      0.00    402.43\n",
       "13  sqft_living15    6210.00   399.00   1988.35   1840.00    685.68\n",
       "14     sqft_lot15  871200.00   651.00  12786.34   7620.00  27375.41"
      ]
     },
     "execution_count": 9,
     "metadata": {},
     "output_type": "execute_result"
    }
   ],
   "source": [
    "num_attibutes = data.select_dtypes( include= ['int64','float64'])\n",
    "num_attibutes = num_attibutes.iloc[:, 1: ]\n",
    "num_attibutes = num_attibutes.drop(columns=['zipcode', 'lat','long'])\n",
    "\n",
    "# central tendency : mean and median\n",
    "mean = pd.DataFrame(num_attibutes.apply(np.mean, axis=0))\n",
    "median = pd.DataFrame(num_attibutes.apply(np.median, axis=0))\n",
    "\n",
    "# dispersion tendency: std, min and max\n",
    "std = pd.DataFrame(num_attibutes.apply(np.std, axis=0))\n",
    "min_ = pd.DataFrame(num_attibutes.apply(np.min, axis=0))\n",
    "max_ = pd.DataFrame(num_attibutes.apply(np.max, axis=0))\n",
    "\n",
    "att = pd.concat((max_, min_, mean, median,std), axis=1).reset_index()\n",
    "att.columns = ('attributes','maximum','minimum','mean', 'median','std')\n",
    "att"
   ]
  },
  {
   "cell_type": "markdown",
   "id": "e0b2aa9c",
   "metadata": {
    "heading_collapsed": true,
    "hidden": true
   },
   "source": [
    "### 3.2) Novas Features"
   ]
  },
  {
   "cell_type": "code",
   "execution_count": 10,
   "id": "a126ec4e",
   "metadata": {
    "ExecuteTime": {
     "end_time": "2021-09-04T19:46:11.986063Z",
     "start_time": "2021-09-04T19:46:11.714517Z"
    },
    "hidden": true
   },
   "outputs": [],
   "source": [
    "df = data.copy()\n",
    "\n",
    "# Ano de construção: >< 1955\n",
    "\n",
    "df['constrution'] = df['yr_built'].apply(lambda x: '> 1955' if x > 1955\n",
    "        else '< 1955')\n",
    "\n",
    "#Imoveis com porão ou sem porão\n",
    "      \n",
    "df['basement'] = df['sqft_basement'].apply(lambda x: 'no' if x == 0\n",
    "        else 'yes')        \n",
    "\n",
    "# Season\n",
    "\n",
    "df['mouth'] = pd.to_datetime(df['date']).dt.month\n",
    "df['season'] = df['mouth'].apply(lambda x: 'summer' if (x > 5) & (x < 8) else\n",
    "                                           'spring' if (x > 2) & (x < 5) else\n",
    "                                           'fall' if (x > 8) & (x < 12) else\n",
    "                                           'winter')\n",
    "\n",
    "# Waterfront\n",
    "\n",
    "df['waterfront_'] = df['waterfront'].apply(lambda x: 'sim' if x == '1'\n",
    "        else 'não')\n",
    "\n",
    "# Reforma\n",
    "\n",
    "df['renovated'] = df['yr_renovated'].apply(lambda x: 'no' if x == 0\n",
    "        else 'yes')\n",
    "\n",
    "# criar um 'describe' para condição, para acrescentar no relatório\n",
    "\n",
    "df['describe_condition'] = df['condition'].apply(lambda x: 'too bad' if x == 1 else\n",
    "                                                         'bad' if x == 2 else\n",
    "                                                         'median'if x == 3 else\n",
    "                                                         'good' if x == 4 else\n",
    "                                                         'excellent')"
   ]
  },
  {
   "cell_type": "markdown",
   "id": "03da2cff",
   "metadata": {
    "ExecuteTime": {
     "end_time": "2021-07-10T12:41:07.484938Z",
     "start_time": "2021-07-10T12:41:06.978621Z"
    },
    "heading_collapsed": true,
    "hidden": true
   },
   "source": [
    "### 3.3) Insights "
   ]
  },
  {
   "cell_type": "markdown",
   "id": "9e7083ab",
   "metadata": {
    "hidden": true
   },
   "source": [
    "H1: Imóveis que possuem vista para água, são mais caros, na média.\n",
    "\n",
    "H2: Imóveis com data de construção menor que 1955, são mais baratos, na média. \n",
    "\n",
    "H3: Imóveis sem porão possuem \"sqrt_lot\" maiores do que com porão.\n",
    "\n",
    "H4: Houve crescimento do preço dos imóveis YoY ( Year over Year ). \n",
    "\n",
    "H5: Imóveis com mais quartos são em média mais caros."
   ]
  },
  {
   "cell_type": "code",
   "execution_count": 11,
   "id": "85f10822",
   "metadata": {
    "ExecuteTime": {
     "end_time": "2021-09-04T19:46:13.054706Z",
     "start_time": "2021-09-04T19:46:11.987960Z"
    },
    "code_folding": [
     0
    ],
    "hidden": true
   },
   "outputs": [
    {
     "name": "stdout",
     "output_type": "stream",
     "text": [
      "H1 é verdadeira, pois os imóveis com vista pra agua são em média 212% mais caros\n"
     ]
    },
    {
     "data": {
      "image/png": "[encoded data removed]",
      "text/plain": [
       "<Figure size 720x432 with 1 Axes>"
      ]
     },
     "metadata": {
      "needs_background": "light"
     },
     "output_type": "display_data"
    }
   ],
   "source": [
    "#H1 \n",
    "h1 = df[['price','waterfront']].groupby('waterfront').mean().reset_index()\n",
    "plt.figure(figsize=(10,6))\n",
    "sns.barplot(h1['waterfront'],h1['price'])\n",
    "\n",
    "h1_percent = (h1.loc[1,'price'] - h1.loc[0,'price']) / h1.loc[0,'price']\n",
    "print('H1 é verdadeira, pois os imóveis com vista pra agua são em média {0:.0%} mais caros'.format(h1_percent))"
   ]
  },
  {
   "cell_type": "code",
   "execution_count": 12,
   "id": "54a3bdef",
   "metadata": {
    "ExecuteTime": {
     "end_time": "2021-09-04T19:46:13.262148Z",
     "start_time": "2021-09-04T19:46:13.060379Z"
    },
    "code_folding": [
     0
    ],
    "hidden": true
   },
   "outputs": [
    {
     "name": "stdout",
     "output_type": "stream",
     "text": [
      "H2 é falsa, pois os imóveis construídos antes de 1955, são em média apenas 1% mais baratos\n"
     ]
    },
    {
     "data": {
      "image/png": "[encoded data removed]",
      "text/plain": [
       "<Figure size 720x432 with 1 Axes>"
      ]
     },
     "metadata": {
      "needs_background": "light"
     },
     "output_type": "display_data"
    }
   ],
   "source": [
    "#H2\n",
    "h2 = df[['price','constrution']].groupby('constrution').mean().reset_index()\n",
    "plt.figure(figsize=(10,6))\n",
    "sns.barplot(h2['constrution'],h2['price'])\n",
    "\n",
    "h2_percent = (h2.loc[1,'price'] - h2.loc[0,'price']) / h2.loc[1,'price']\n",
    "print('H2 é falsa, pois os imóveis construídos antes de 1955, são em média apenas {0:.0%} mais baratos'.format(h2_percent))"
   ]
  },
  {
   "cell_type": "code",
   "execution_count": 13,
   "id": "4f2d769c",
   "metadata": {
    "ExecuteTime": {
     "end_time": "2021-09-04T19:46:13.476126Z",
     "start_time": "2021-09-04T19:46:13.265030Z"
    },
    "code_folding": [
     0
    ],
    "hidden": true
   },
   "outputs": [
    {
     "name": "stdout",
     "output_type": "stream",
     "text": [
      "H3 é verdadeira, pois os imóveis sem porão, possuem área do lote 23% maior\n"
     ]
    },
    {
     "data": {
      "image/png": "[encoded data removed]",
      "text/plain": [
       "<Figure size 720x432 with 1 Axes>"
      ]
     },
     "metadata": {
      "needs_background": "light"
     },
     "output_type": "display_data"
    }
   ],
   "source": [
    "#H3\n",
    "h3 = df[['sqft_lot','basement']].groupby('basement').mean().reset_index()\n",
    "\n",
    "plt.figure(figsize=(10,6))\n",
    "sns.barplot(h3['basement'],h3['sqft_lot'])\n",
    "\n",
    "h3_percent = (h3.loc[0,'sqft_lot'] - h3.loc[1,'sqft_lot']) / h3.loc[1,'sqft_lot']\n",
    "print('H3 é verdadeira, pois os imóveis sem porão, possuem área do lote {0:.0%} maior'.format(h3_percent))\n"
   ]
  },
  {
   "cell_type": "code",
   "execution_count": 14,
   "id": "7128e800",
   "metadata": {
    "ExecuteTime": {
     "end_time": "2021-09-04T19:46:13.810945Z",
     "start_time": "2021-09-04T19:46:13.478182Z"
    },
    "code_folding": [
     0
    ],
    "hidden": true
   },
   "outputs": [
    {
     "name": "stdout",
     "output_type": "stream",
     "text": [
      "H4 é falsa, pois o crescimento do preço entre os anos foi de 0%\n"
     ]
    },
    {
     "data": {
      "image/png": "[encoded data removed]",
      "text/plain": [
       "<Figure size 720x432 with 1 Axes>"
      ]
     },
     "metadata": {
      "needs_background": "light"
     },
     "output_type": "display_data"
    }
   ],
   "source": [
    "# H4\n",
    "\n",
    "df['year'] = pd.to_datetime(df['date']).dt.year\n",
    "h4 = df[['price','year']].groupby('year').mean().reset_index()\n",
    "plt.figure(figsize=(10,6))\n",
    "sns.barplot(h4['year'],h4['price'])\n",
    "\n",
    "h4_percent = (h4.loc[1,'price'] - h4.loc[0,'price']) / h4.loc[0,'price']\n",
    "print('H4 é falsa, pois o crescimento do preço entre os anos foi de {0:.0%}'.format(h4_percent))\n"
   ]
  },
  {
   "cell_type": "code",
   "execution_count": 15,
   "id": "53d4a3c5",
   "metadata": {
    "ExecuteTime": {
     "end_time": "2021-09-04T19:46:14.219455Z",
     "start_time": "2021-09-04T19:46:13.814239Z"
    },
    "code_folding": [
     0
    ],
    "hidden": true
   },
   "outputs": [
    {
     "name": "stdout",
     "output_type": "stream",
     "text": [
      "H5 é verdadeira, pois os imóveis com mais quartos(acima de 5), são 69% mais caros\n"
     ]
    },
    {
     "data": {
      "image/png": "[encoded data removed]",
      "text/plain": [
       "<Figure size 1080x360 with 1 Axes>"
      ]
     },
     "metadata": {
      "needs_background": "light"
     },
     "output_type": "display_data"
    }
   ],
   "source": [
    "#H5\n",
    "\n",
    "h5 = df[['price','bedrooms']].groupby('bedrooms').mean().reset_index()\n",
    "\n",
    "plt.figure(figsize=(15,5))\n",
    "sns.barplot(h5['bedrooms'],h5['price'])\n",
    "\n",
    "median = h5['bedrooms'].median()\n",
    "\n",
    "bed_above = h5['price'][h5['bedrooms'] > median].mean()\n",
    "bed_below = h5['price'][h5['bedrooms'] < median].mean()\n",
    "h5_percent = (bed_above - bed_below) / bed_below\n",
    "\n",
    "print('H5 é verdadeira, pois os imóveis com mais quartos(acima de 5), são {0:.0%} mais caros'.format(h5_percent))\n"
   ]
  },
  {
   "cell_type": "markdown",
   "id": "e4c4deba",
   "metadata": {
    "heading_collapsed": true
   },
   "source": [
    "## 4) Questões do negócio"
   ]
  },
  {
   "cell_type": "markdown",
   "id": "8c5ce7cf",
   "metadata": {
    "heading_collapsed": true,
    "hidden": true
   },
   "source": [
    "### 4.1) Quais são os imóveis que a House Rocket deveria comprar e por qual preço ?"
   ]
  },
  {
   "cell_type": "code",
   "execution_count": 16,
   "id": "23cf6fbb",
   "metadata": {
    "ExecuteTime": {
     "end_time": "2021-09-04T19:46:30.676340Z",
     "start_time": "2021-09-04T19:46:14.223187Z"
    },
    "code_folding": [],
    "hidden": true
   },
   "outputs": [],
   "source": [
    "# Agrupar os imóveis por região ( coluna zipcode ).\n",
    "# Dentro de cada região, encontrar a mediana do preço do imóvel.\n",
    "\n",
    "df1 = data[['zipcode','price']].groupby('zipcode').median().reset_index()\n",
    "df1 = df1.rename(columns={'price': 'price_median'})\n",
    "\n",
    "# unir o df2 com o dataset original, alocando cada preço mediano em cada linha, através do zipcode\n",
    "\n",
    "df = pd.merge(df1,df,on='zipcode',how='inner')\n",
    "\n",
    "# pra cada imóvel, colocar na coluna \"status\" os indicadores \"buy\" ou \"no buy\" de dependendo das condições:\n",
    "\n",
    "# a) o preço for menor que a mediana da região;\n",
    "# b) o imóvel estiver em boas condições\n",
    "\n",
    "for i in range(len(df)):\n",
    "    \n",
    "    if (df.loc[i,'price'] < df.loc[i,'price_median']) & (df.loc[i,'condition'] >= 3):\n",
    "        df.loc[i,'status'] = 'buy'\n",
    "    \n",
    "    else:\n",
    "        df.loc[i,'status'] = 'no buy'"
   ]
  },
  {
   "cell_type": "code",
   "execution_count": 17,
   "id": "fd1c202f",
   "metadata": {
    "ExecuteTime": {
     "end_time": "2021-09-04T19:46:30.799311Z",
     "start_time": "2021-09-04T19:46:30.678402Z"
    },
    "code_folding": [],
    "hidden": true,
    "scrolled": true
   },
   "outputs": [
    {
     "name": "stdout",
     "output_type": "stream",
     "text": [
      "Foram encontrados 10505 imóveis dentro das condições acima, sugeridos para compra\n"
     ]
    }
   ],
   "source": [
    "# criar relatório com apenas as colunas de interesse, ordenando do menor preço para o maior, considerando as melhores condições de imóveis \n",
    "buy_houses = df[df['status'] == 'buy'].sort_values(by=['describe_condition','price'])\n",
    "buy_houses[['id','zipcode','price','price_median','condition']].head()\n",
    "\n",
    "print('Foram encontrados {} imóveis dentro das condições acima, sugeridos para compra'.format(len(buy_houses)))"
   ]
  },
  {
   "cell_type": "markdown",
   "id": "999294b6",
   "metadata": {
    "ExecuteTime": {
     "end_time": "2021-07-08T00:13:01.395853Z",
     "start_time": "2021-07-08T00:13:01.365689Z"
    },
    "heading_collapsed": true,
    "hidden": true
   },
   "source": [
    "### 4.2) Uma vez a casa comprada, qual o melhor momento para vendê-las e por qual preço ?"
   ]
  },
  {
   "cell_type": "code",
   "execution_count": 18,
   "id": "a44ce6de",
   "metadata": {
    "ExecuteTime": {
     "end_time": "2021-09-04T19:46:30.922574Z",
     "start_time": "2021-09-04T19:46:30.801254Z"
    },
    "code_folding": [],
    "hidden": true
   },
   "outputs": [],
   "source": [
    "# Agrupar os imóveis por região ( coluna zipcode ) e por sazonalidade(season)\n",
    "# Dentro de cada região/season encontrar a mediana do preço do imóvel.\n",
    "\n",
    "df2 = df[['zipcode','season','price']].groupby(['zipcode','season']).median().reset_index()\n",
    "df2 = df2.rename(columns={'price': 'price_median_season'})\n",
    "\n",
    "\n",
    "# unir df2 com df\n",
    "df3 = pd.merge(buy_houses,df2,how ='inner', on=['zipcode','season'])\n"
   ]
  },
  {
   "cell_type": "code",
   "execution_count": 19,
   "id": "2ee63ab6",
   "metadata": {
    "ExecuteTime": {
     "end_time": "2021-09-04T19:46:35.346065Z",
     "start_time": "2021-09-04T19:46:30.924496Z"
    },
    "code_folding": [],
    "hidden": true
   },
   "outputs": [],
   "source": [
    "# Condições de venda:\n",
    "# 1. Se o preço da compra for maior que a mediana da região + sazonalidade.\n",
    "# O preço da venda será igual ao preço da compra + 10%\n",
    "# 2. Se o preço da compra for menor que a mediana da região + sazonalidade.\n",
    "# O preço da venda será igual ao preço da compra + 30%\n",
    "        \n",
    "for i in range(len(df3)):\n",
    "            if df3.loc[i, 'price'] <= df3.loc[i, 'price_median_season']:\n",
    "                 df3.loc[i, 'sale_price'] = df3.loc[i, 'price'] * 1.30\n",
    "            elif df3.loc[i, 'price'] > df3.loc[i, 'price_median_season']:\n",
    "                 df3.loc[i, 'sale_price'] = df3.loc[i, 'price'] * 1.10\n",
    "            else:\n",
    "                 pass\n",
    "                \n",
    "df3['profit'] = df3['sale_price'] - df3['price']"
   ]
  },
  {
   "cell_type": "code",
   "execution_count": 20,
   "id": "c357e040",
   "metadata": {
    "ExecuteTime": {
     "end_time": "2021-09-04T19:46:35.378224Z",
     "start_time": "2021-09-04T19:46:35.347919Z"
    },
    "code_folding": [],
    "hidden": true
   },
   "outputs": [
    {
     "data": {
      "text/html": [
       "<div>\n",
       "<style scoped>\n",
       "    .dataframe tbody tr th:only-of-type {\n",
       "        vertical-align: middle;\n",
       "    }\n",
       "\n",
       "    .dataframe tbody tr th {\n",
       "        vertical-align: top;\n",
       "    }\n",
       "\n",
       "    .dataframe thead th {\n",
       "        text-align: right;\n",
       "    }\n",
       "</style>\n",
       "<table border=\"1\" class=\"dataframe\">\n",
       "  <thead>\n",
       "    <tr style=\"text-align: right;\">\n",
       "      <th></th>\n",
       "      <th>id</th>\n",
       "      <th>zipcode</th>\n",
       "      <th>price</th>\n",
       "      <th>price_median</th>\n",
       "      <th>season</th>\n",
       "      <th>price_median_season</th>\n",
       "      <th>describe_condition</th>\n",
       "      <th>sale_price</th>\n",
       "      <th>profit</th>\n",
       "    </tr>\n",
       "  </thead>\n",
       "  <tbody>\n",
       "    <tr>\n",
       "      <th>0</th>\n",
       "      <td>5111400086</td>\n",
       "      <td>98038</td>\n",
       "      <td>110000.00</td>\n",
       "      <td>342500.00</td>\n",
       "      <td>winter</td>\n",
       "      <td>342000.00</td>\n",
       "      <td>excellent</td>\n",
       "      <td>143000.00</td>\n",
       "      <td>33000.00</td>\n",
       "    </tr>\n",
       "    <tr>\n",
       "      <th>1</th>\n",
       "      <td>1545801970</td>\n",
       "      <td>98038</td>\n",
       "      <td>250000.00</td>\n",
       "      <td>342500.00</td>\n",
       "      <td>winter</td>\n",
       "      <td>342000.00</td>\n",
       "      <td>excellent</td>\n",
       "      <td>325000.00</td>\n",
       "      <td>75000.00</td>\n",
       "    </tr>\n",
       "    <tr>\n",
       "      <th>2</th>\n",
       "      <td>1545806720</td>\n",
       "      <td>98038</td>\n",
       "      <td>254950.00</td>\n",
       "      <td>342500.00</td>\n",
       "      <td>winter</td>\n",
       "      <td>342000.00</td>\n",
       "      <td>excellent</td>\n",
       "      <td>331435.00</td>\n",
       "      <td>76485.00</td>\n",
       "    </tr>\n",
       "    <tr>\n",
       "      <th>3</th>\n",
       "      <td>1545803340</td>\n",
       "      <td>98038</td>\n",
       "      <td>269000.00</td>\n",
       "      <td>342500.00</td>\n",
       "      <td>winter</td>\n",
       "      <td>342000.00</td>\n",
       "      <td>excellent</td>\n",
       "      <td>349700.00</td>\n",
       "      <td>80700.00</td>\n",
       "    </tr>\n",
       "    <tr>\n",
       "      <th>4</th>\n",
       "      <td>1545807990</td>\n",
       "      <td>98038</td>\n",
       "      <td>315000.00</td>\n",
       "      <td>342500.00</td>\n",
       "      <td>winter</td>\n",
       "      <td>342000.00</td>\n",
       "      <td>excellent</td>\n",
       "      <td>409500.00</td>\n",
       "      <td>94500.00</td>\n",
       "    </tr>\n",
       "  </tbody>\n",
       "</table>\n",
       "</div>"
      ],
      "text/plain": [
       "           id  zipcode     price  price_median  season  price_median_season  \\\n",
       "0  5111400086    98038 110000.00     342500.00  winter            342000.00   \n",
       "1  1545801970    98038 250000.00     342500.00  winter            342000.00   \n",
       "2  1545806720    98038 254950.00     342500.00  winter            342000.00   \n",
       "3  1545803340    98038 269000.00     342500.00  winter            342000.00   \n",
       "4  1545807990    98038 315000.00     342500.00  winter            342000.00   \n",
       "\n",
       "  describe_condition  sale_price   profit  \n",
       "0          excellent   143000.00 33000.00  \n",
       "1          excellent   325000.00 75000.00  \n",
       "2          excellent   331435.00 76485.00  \n",
       "3          excellent   349700.00 80700.00  \n",
       "4          excellent   409500.00 94500.00  "
      ]
     },
     "execution_count": 20,
     "metadata": {},
     "output_type": "execute_result"
    }
   ],
   "source": [
    "# relatório final: Sugestões de compra, com possíveis indicadores de preço de venda e lucro\n",
    "df3[['id','zipcode','price','price_median','season','price_median_season','describe_condition','sale_price','profit']].head()"
   ]
  },
  {
   "cell_type": "code",
   "execution_count": 21,
   "id": "fa6f4fbf",
   "metadata": {
    "ExecuteTime": {
     "end_time": "2021-09-04T19:46:35.482666Z",
     "start_time": "2021-09-04T19:46:35.381296Z"
    },
    "hidden": true,
    "scrolled": true
   },
   "outputs": [
    {
     "data": {
      "text/plain": [
       "1186638788.2"
      ]
     },
     "execution_count": 21,
     "metadata": {},
     "output_type": "execute_result"
    }
   ],
   "source": [
    "# Total do lucro considerando quadro de sugestão\n",
    "df3['profit'].sum()"
   ]
  },
  {
   "cell_type": "code",
   "execution_count": 22,
   "id": "7ad422fc",
   "metadata": {
    "ExecuteTime": {
     "end_time": "2021-09-04T19:46:35.562255Z",
     "start_time": "2021-09-04T19:46:35.485333Z"
    },
    "hidden": true
   },
   "outputs": [
    {
     "data": {
      "text/plain": [
       "4079586744.0"
      ]
     },
     "execution_count": 22,
     "metadata": {},
     "output_type": "execute_result"
    }
   ],
   "source": [
    "# Custo total\n",
    "df3['price'].sum()"
   ]
  },
  {
   "cell_type": "code",
   "execution_count": 23,
   "id": "c9656a10",
   "metadata": {
    "ExecuteTime": {
     "end_time": "2021-09-04T19:46:35.660489Z",
     "start_time": "2021-09-04T19:46:35.569717Z"
    },
    "hidden": true
   },
   "outputs": [
    {
     "data": {
      "text/plain": [
       "5266225532.2"
      ]
     },
     "execution_count": 23,
     "metadata": {},
     "output_type": "execute_result"
    }
   ],
   "source": [
    "# Receita total\n",
    "df3['sale_price'].sum()"
   ]
  },
  {
   "cell_type": "markdown",
   "id": "6ddd8f40",
   "metadata": {
    "heading_collapsed": true,
    "hidden": true
   },
   "source": [
    "### 4.3) Insights - Imóveis selecionados"
   ]
  },
  {
   "cell_type": "code",
   "execution_count": 24,
   "id": "1f07eb05",
   "metadata": {
    "ExecuteTime": {
     "end_time": "2021-09-04T19:46:35.759698Z",
     "start_time": "2021-09-04T19:46:35.663267Z"
    },
    "code_folding": [],
    "hidden": true,
    "scrolled": true
   },
   "outputs": [],
   "source": [
    "# Seleção dos atributos cujo array é analisável\n",
    "df4 = df3[['zipcode','bedrooms','bathrooms','floors','season',\n",
    "           'renovated','describe_condition','waterfront_','basement','grade','view','constrution']]"
   ]
  },
  {
   "cell_type": "code",
   "execution_count": 25,
   "id": "ae2f1db9",
   "metadata": {
    "ExecuteTime": {
     "end_time": "2021-09-04T19:46:39.986684Z",
     "start_time": "2021-09-04T19:46:35.762433Z"
    },
    "code_folding": [],
    "hidden": true
   },
   "outputs": [
    {
     "name": "stdout",
     "output_type": "stream",
     "text": [
      "Insights - Imóveis selecionados\n",
      "Imóveis mais lucrativos são os com \"zipcode\" igual a \"98052\"\n",
      "Imóveis mais lucrativos são os com \"bedrooms\" igual a \"3\"\n",
      "Imóveis mais lucrativos são os com \"bathrooms\" igual a \"1.0\"\n",
      "Imóveis mais lucrativos são os com \"floors\" igual a \"1.0\"\n",
      "Imóveis mais lucrativos são os com \"season\" igual a \"winter\"\n",
      "Imóveis mais lucrativos são os com \"renovated\" igual a \"no\"\n",
      "Imóveis mais lucrativos são os com \"describe_condition\" igual a \"median\"\n",
      "Imóveis mais lucrativos são os com \"waterfront_\" igual a \"não\"\n",
      "Imóveis mais lucrativos são os com \"basement\" igual a \"no\"\n",
      "Imóveis mais lucrativos são os com \"grade\" igual a \"7\"\n",
      "Imóveis mais lucrativos são os com \"view\" igual a \"0\"\n",
      "Imóveis mais lucrativos são os com \"constrution\" igual a \"> 1955\"\n"
     ]
    },
    {
     "data": {
      "image/png": "[encoded data removed]",
      "text/plain": [
       "<Figure size 1440x864 with 1 Axes>"
      ]
     },
     "metadata": {
      "needs_background": "light"
     },
     "output_type": "display_data"
    },
    {
     "data": {
      "image/png": "[encoded data removed]",
      "text/plain": [
       "<Figure size 1440x864 with 1 Axes>"
      ]
     },
     "metadata": {
      "needs_background": "light"
     },
     "output_type": "display_data"
    },
    {
     "data": {
      "image/png": "[encoded data removed]",
      "text/plain": [
       "<Figure size 1440x864 with 1 Axes>"
      ]
     },
     "metadata": {
      "needs_background": "light"
     },
     "output_type": "display_data"
    },
    {
     "data": {
      "image/png": "[encoded data removed]",
      "text/plain": [
       "<Figure size 1440x864 with 1 Axes>"
      ]
     },
     "metadata": {
      "needs_background": "light"
     },
     "output_type": "display_data"
    },
    {
     "data": {
      "image/png": "[encoded data removed]",
      "text/plain": [
       "<Figure size 1440x864 with 1 Axes>"
      ]
     },
     "metadata": {
      "needs_background": "light"
     },
     "output_type": "display_data"
    },
    {
     "data": {
      "image/png": "[encoded data removed]",
      "text/plain": [
       "<Figure size 1440x864 with 1 Axes>"
      ]
     },
     "metadata": {
      "needs_background": "light"
     },
     "output_type": "display_data"
    },
    {
     "data": {
      "image/png": "[encoded data removed]",
      "text/plain": [
       "<Figure size 1440x864 with 1 Axes>"
      ]
     },
     "metadata": {
      "needs_background": "light"
     },
     "output_type": "display_data"
    },
    {
     "data": {
      "image/png": "[encoded data removed]",
      "text/plain": [
       "<Figure size 1440x864 with 1 Axes>"
      ]
     },
     "metadata": {
      "needs_background": "light"
     },
     "output_type": "display_data"
    },
    {
     "data": {
      "image/png": "[encoded data removed]",
      "text/plain": [
       "<Figure size 1440x864 with 1 Axes>"
      ]
     },
     "metadata": {
      "needs_background": "light"
     },
     "output_type": "display_data"
    },
    {
     "data": {
      "image/png": "[encoded data removed]",
      "text/plain": [
       "<Figure size 1440x864 with 1 Axes>"
      ]
     },
     "metadata": {
      "needs_background": "light"
     },
     "output_type": "display_data"
    },
    {
     "data": {
      "image/png": "[encoded data removed]",
      "text/plain": [
       "<Figure size 1440x864 with 1 Axes>"
      ]
     },
     "metadata": {
      "needs_background": "light"
     },
     "output_type": "display_data"
    },
    {
     "data": {
      "image/png": "[encoded data removed]",
      "text/plain": [
       "<Figure size 1440x864 with 1 Axes>"
      ]
     },
     "metadata": {
      "needs_background": "light"
     },
     "output_type": "display_data"
    }
   ],
   "source": [
    "print(\"Insights - Imóveis selecionados\")\n",
    "conditions = []\n",
    "for i in df4.columns:\n",
    "            ins = df3[['profit',i]].groupby(i).sum().reset_index()\n",
    "            plt.figure(figsize=(20,12))\n",
    "            sns.barplot(ins[i],ins['profit']).set(title='Profit x {}'.format(i))\n",
    "            plt.xticks(rotation=60);\n",
    "            ins2 = ins[ins['profit'] == ins['profit'].max()]\n",
    "            conditions.append(ins2.iloc[0,0])\n",
    "            print('Imóveis mais lucrativos são os com \"{}\" igual a \"{}\"'.format(i, ins2.iloc[0,0]))\n"
   ]
  },
  {
   "cell_type": "code",
   "execution_count": 26,
   "id": "aeeae4f2",
   "metadata": {
    "ExecuteTime": {
     "end_time": "2021-09-04T19:46:40.065081Z",
     "start_time": "2021-09-04T19:46:39.989663Z"
    },
    "hidden": true,
    "scrolled": false
   },
   "outputs": [
    {
     "data": {
      "text/html": [
       "<div>\n",
       "<style scoped>\n",
       "    .dataframe tbody tr th:only-of-type {\n",
       "        vertical-align: middle;\n",
       "    }\n",
       "\n",
       "    .dataframe tbody tr th {\n",
       "        vertical-align: top;\n",
       "    }\n",
       "\n",
       "    .dataframe thead th {\n",
       "        text-align: right;\n",
       "    }\n",
       "</style>\n",
       "<table border=\"1\" class=\"dataframe\">\n",
       "  <thead>\n",
       "    <tr style=\"text-align: right;\">\n",
       "      <th></th>\n",
       "      <th>atributo</th>\n",
       "      <th>condicao</th>\n",
       "      <th>total_imoveis</th>\n",
       "      <th>%_imoveis</th>\n",
       "      <th>lucro_total</th>\n",
       "      <th>%_lucro</th>\n",
       "    </tr>\n",
       "  </thead>\n",
       "  <tbody>\n",
       "    <tr>\n",
       "      <th>0</th>\n",
       "      <td>zipcode</td>\n",
       "      <td>98052</td>\n",
       "      <td>281</td>\n",
       "      <td>2.67</td>\n",
       "      <td>41495434.30</td>\n",
       "      <td>3.50</td>\n",
       "    </tr>\n",
       "    <tr>\n",
       "      <th>1</th>\n",
       "      <td>bedrooms</td>\n",
       "      <td>3</td>\n",
       "      <td>5752</td>\n",
       "      <td>54.75</td>\n",
       "      <td>630600012.90</td>\n",
       "      <td>53.14</td>\n",
       "    </tr>\n",
       "    <tr>\n",
       "      <th>2</th>\n",
       "      <td>bathrooms</td>\n",
       "      <td>1.00</td>\n",
       "      <td>3041</td>\n",
       "      <td>28.95</td>\n",
       "      <td>285610036.70</td>\n",
       "      <td>24.07</td>\n",
       "    </tr>\n",
       "    <tr>\n",
       "      <th>3</th>\n",
       "      <td>floors</td>\n",
       "      <td>1.00</td>\n",
       "      <td>6595</td>\n",
       "      <td>62.78</td>\n",
       "      <td>707307614.60</td>\n",
       "      <td>59.61</td>\n",
       "    </tr>\n",
       "    <tr>\n",
       "      <th>4</th>\n",
       "      <td>season</td>\n",
       "      <td>winter</td>\n",
       "      <td>3978</td>\n",
       "      <td>37.87</td>\n",
       "      <td>448773828.40</td>\n",
       "      <td>37.82</td>\n",
       "    </tr>\n",
       "    <tr>\n",
       "      <th>5</th>\n",
       "      <td>renovated</td>\n",
       "      <td>no</td>\n",
       "      <td>10193</td>\n",
       "      <td>97.03</td>\n",
       "      <td>1146786122.90</td>\n",
       "      <td>96.64</td>\n",
       "    </tr>\n",
       "    <tr>\n",
       "      <th>6</th>\n",
       "      <td>describe_condition</td>\n",
       "      <td>median</td>\n",
       "      <td>6717</td>\n",
       "      <td>63.94</td>\n",
       "      <td>752834621.20</td>\n",
       "      <td>63.44</td>\n",
       "    </tr>\n",
       "    <tr>\n",
       "      <th>7</th>\n",
       "      <td>waterfront_</td>\n",
       "      <td>não</td>\n",
       "      <td>10496</td>\n",
       "      <td>99.91</td>\n",
       "      <td>1185834859.00</td>\n",
       "      <td>99.93</td>\n",
       "    </tr>\n",
       "    <tr>\n",
       "      <th>8</th>\n",
       "      <td>basement</td>\n",
       "      <td>no</td>\n",
       "      <td>7003</td>\n",
       "      <td>66.66</td>\n",
       "      <td>746397036.20</td>\n",
       "      <td>62.90</td>\n",
       "    </tr>\n",
       "    <tr>\n",
       "      <th>9</th>\n",
       "      <td>grade</td>\n",
       "      <td>7</td>\n",
       "      <td>5821</td>\n",
       "      <td>55.41</td>\n",
       "      <td>620481755.30</td>\n",
       "      <td>52.29</td>\n",
       "    </tr>\n",
       "    <tr>\n",
       "      <th>10</th>\n",
       "      <td>view</td>\n",
       "      <td>0</td>\n",
       "      <td>10228</td>\n",
       "      <td>97.36</td>\n",
       "      <td>1148164151.00</td>\n",
       "      <td>96.76</td>\n",
       "    </tr>\n",
       "    <tr>\n",
       "      <th>11</th>\n",
       "      <td>constrution</td>\n",
       "      <td>&gt; 1955</td>\n",
       "      <td>7077</td>\n",
       "      <td>67.37</td>\n",
       "      <td>804143433.80</td>\n",
       "      <td>67.77</td>\n",
       "    </tr>\n",
       "  </tbody>\n",
       "</table>\n",
       "</div>"
      ],
      "text/plain": [
       "              atributo condicao total_imoveis %_imoveis   lucro_total %_lucro\n",
       "0              zipcode    98052           281      2.67   41495434.30    3.50\n",
       "1             bedrooms        3          5752     54.75  630600012.90   53.14\n",
       "2            bathrooms     1.00          3041     28.95  285610036.70   24.07\n",
       "3               floors     1.00          6595     62.78  707307614.60   59.61\n",
       "4               season   winter          3978     37.87  448773828.40   37.82\n",
       "5            renovated       no         10193     97.03 1146786122.90   96.64\n",
       "6   describe_condition   median          6717     63.94  752834621.20   63.44\n",
       "7          waterfront_      não         10496     99.91 1185834859.00   99.93\n",
       "8             basement       no          7003     66.66  746397036.20   62.90\n",
       "9                grade        7          5821     55.41  620481755.30   52.29\n",
       "10                view        0         10228     97.36 1148164151.00   96.76\n",
       "11         constrution   > 1955          7077     67.37  804143433.80   67.77"
      ]
     },
     "execution_count": 26,
     "metadata": {},
     "output_type": "execute_result"
    }
   ],
   "source": [
    "dx = pd.DataFrame(columns=['atributo','condicao','total_imoveis','%_imoveis','lucro_total','%_lucro'])\n",
    "\n",
    "dx['atributo'] = ['zipcode','bedrooms','bathrooms','floors','season',\n",
    "           'renovated','describe_condition','waterfront_','basement','grade','view','constrution']\n",
    "\n",
    "dx['condicao'] = conditions\n",
    "\n",
    "for i in range(len(dx)):\n",
    "    dx.loc[i,'total_imoveis'] = df3['id'][df3[dx.loc[i,'atributo']] == dx.loc[i,'condicao']].count()\n",
    "    dx.loc[i,'%_imoveis'] = float(dx.loc[i,'total_imoveis'] / df3['id'].count() * 100)\n",
    "    dx.loc[i,'lucro_total'] = df3['profit'][df3[dx.loc[i,'atributo']] == dx.loc[i,'condicao']].sum()\n",
    "    dx.loc[i,'%_lucro'] = float(dx.loc[i,'lucro_total'] / df3['profit'].sum() * 100)\n",
    "\n",
    "dx"
   ]
  },
  {
   "cell_type": "markdown",
   "id": "7136a268",
   "metadata": {
    "heading_collapsed": true,
    "hidden": true
   },
   "source": [
    "#### 4.3.1) Teste de Pareto"
   ]
  },
  {
   "cell_type": "code",
   "execution_count": 27,
   "id": "280d446c",
   "metadata": {
    "ExecuteTime": {
     "end_time": "2021-09-04T19:46:40.174729Z",
     "start_time": "2021-09-04T19:46:40.067733Z"
    },
    "hidden": true
   },
   "outputs": [],
   "source": [
    "cond = [df3[df3['zipcode']== 98052],\n",
    "         df3[df3['bedrooms']== 3],\n",
    "        df3[df3['bathrooms']== 1.0],\n",
    "        df3[df3['floors']== 1.0],\n",
    "        df3[df3['season']== 'winter'],\n",
    "        df3[df3['renovated']== 'no'],\n",
    "        df3[df3['describe_condition'] == 'median'],\n",
    "        df3[df3['waterfront_']== 'não'],\n",
    "        df3[df3['basement']== 'no'],\n",
    "        df3[df3['grade']== 7],\n",
    "        df3[df3['view']== 0],\n",
    "        df3[df3['constrution']== '> 1955']]\n"
   ]
  },
  {
   "cell_type": "code",
   "execution_count": 28,
   "id": "fa1ece46",
   "metadata": {
    "ExecuteTime": {
     "end_time": "2021-09-04T19:46:40.352737Z",
     "start_time": "2021-09-04T19:46:40.176528Z"
    },
    "hidden": true
   },
   "outputs": [
    {
     "name": "stdout",
     "output_type": "stream",
     "text": [
      "O número de imóveis na condição é de 2.674916706330319 % do total de imóveis\n",
      "O percentual do lucro corresponde a 3.4968884139497907 %\n",
      "\n",
      "O número de imóveis na condição é de 54.75487862922418 % do total de imóveis\n",
      "O percentual do lucro corresponde a 53.141698987992 %\n",
      "\n",
      "O número de imóveis na condição é de 28.948119942884343 % do total de imóveis\n",
      "O percentual do lucro corresponde a 24.068826970778435 %\n",
      "\n",
      "O número de imóveis na condição é de 62.77962874821513 % do total de imóveis\n",
      "O percentual do lucro corresponde a 59.60597459256388 %\n",
      "\n",
      "O número de imóveis na condição é de 37.86768205616373 % do total de imóveis\n",
      "O percentual do lucro corresponde a 37.818907730189764 %\n",
      "\n",
      "O número de imóveis na condição é de 97.0299857210852 % do total de imóveis\n",
      "O percentual do lucro corresponde a 96.64155042829402 %\n",
      "\n",
      "O número de imóveis na condição é de 63.9409804854831 % do total de imóveis\n",
      "O percentual do lucro corresponde a 63.44261022698971 %\n",
      "\n",
      "O número de imóveis na condição é de 99.91432651118515 % do total de imóveis\n",
      "O percentual do lucro corresponde a 99.9322515656833 %\n",
      "\n",
      "O número de imóveis na condição é de 66.66349357448834 % do total de imóveis\n",
      "O percentual do lucro corresponde a 62.900104363873176 %\n",
      "\n",
      "O número de imóveis na condição é de 55.41170871013803 % do total de imóveis\n",
      "O percentual do lucro corresponde a 52.289016798549305 %\n",
      "\n",
      "O número de imóveis na condição é de 97.36316039980962 % do total de imóveis\n",
      "O percentual do lucro corresponde a 96.75767911999895 %\n",
      "\n",
      "O número de imóveis na condição é de 67.36792003807712 % do total de imóveis\n",
      "O percentual do lucro corresponde aa 67.76648815093907 %\n",
      "\n"
     ]
    }
   ],
   "source": [
    "for i in cond:\n",
    "    pareto = i\n",
    "    par = pareto['profit'].sum() / df3['profit'].sum()\n",
    "    count = pareto['id'].count() / df3['id'].count()\n",
    "    print('O número de imóveis na condição é de {} % do total de imóveis'.format(count * 100))\n",
    "    print('O percentual do lucro corresponde a {} %\\n'.format(par * 100))\n"
   ]
  }
 ],
 "metadata": {
  "kernelspec": {
   "display_name": "Python 3",
   "language": "python",
   "name": "python3"
  },
  "language_info": {
   "codemirror_mode": {
    "name": "ipython",
    "version": 3
   },
   "file_extension": ".py",
   "mimetype": "text/x-python",
   "name": "python",
   "nbconvert_exporter": "python",
   "pygments_lexer": "ipython3",
   "version": "3.8.8"
  }
 },
 "nbformat": 4,
 "nbformat_minor": 5
}
